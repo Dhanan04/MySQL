{
 "cells": [
  {
   "cell_type": "markdown",
   "id": "1ceaf222",
   "metadata": {},
   "source": [
    "#Ans1.) \n",
    "\n",
    "Database: A database is a structured collection of data organized for efficient retrieval, storage, and manipulation. It typically stores data in tables, with each table consisting of rows and columns. Databases provide mechanisms for querying, updating, and managing the stored data.\n",
    "\n",
    "SQL (Structured Query Language) Databases: SQL databases are relational databases that use SQL as the standard language for querying and managing data. They have a predefined schema, enforce data integrity through constraints, and support ACID (Atomicity, Consistency, Isolation, Durability) properties. Examples include MySQL, PostgreSQL, SQLite, and Oracle.\n",
    "\n",
    "NoSQL Databases: NoSQL databases are non-relational databases that provide a flexible schema design, making them suitable for handling unstructured or semi-structured data. They typically offer horizontal scalability and high availability but may sacrifice some ACID properties for performance and scalability. Examples include MongoDB, Cassandra, Redis, and Couchbase."
   ]
  },
  {
   "cell_type": "code",
   "execution_count": null,
   "id": "1a2d77ec",
   "metadata": {},
   "outputs": [],
   "source": []
  },
  {
   "cell_type": "markdown",
   "id": "7459d599",
   "metadata": {},
   "source": [
    "#Ans2.)\n",
    "\n",
    "DDL (Data Definition Language): DDL is a subset of SQL used to define and modify the structure of database objects such as tables, indexes, and constraints.\n",
    "\n",
    "CREATE: Used to create new database objects like tables, indexes, or views.\n",
    "\n",
    "DROP: Used to delete existing database objects.\n",
    "\n",
    "ALTER: Used to modify the structure of existing database objects.\n",
    "\n",
    "TRUNCATE: Used to remove all records from a table while retaining its structure."
   ]
  },
  {
   "cell_type": "code",
   "execution_count": null,
   "id": "f9ca95ba",
   "metadata": {},
   "outputs": [],
   "source": []
  },
  {
   "cell_type": "markdown",
   "id": "5caee094",
   "metadata": {},
   "source": [
    "#Ans3.) \n",
    "\n",
    "DML (Data Manipulation Language): DML is a subset of SQL used to manipulate data stored in database objects such as tables.\n",
    "\n",
    "INSERT: Used to add new records to a table.\n",
    "\n",
    "UPDATE: Used to modify existing records in a table.\n",
    "\n",
    "DELETE: Used to remove records from a table"
   ]
  },
  {
   "cell_type": "code",
   "execution_count": null,
   "id": "de270e54",
   "metadata": {},
   "outputs": [],
   "source": []
  },
  {
   "cell_type": "code",
   "execution_count": null,
   "id": "414ef8e8",
   "metadata": {},
   "outputs": [],
   "source": []
  },
  {
   "cell_type": "markdown",
   "id": "af0d8ee0",
   "metadata": {},
   "source": [
    "#Ans4.)\n",
    "\n",
    "DQL (Data Query Language): DQL is a subset of SQL used to retrieve data from a database.\n",
    "\n",
    "SELECT: Used to retrieve data from one or more tables."
   ]
  },
  {
   "cell_type": "code",
   "execution_count": 4,
   "id": "1bf9af2f",
   "metadata": {},
   "outputs": [],
   "source": [
    "SELECT * FROM students WHERE age > 20;\n"
   ]
  },
  {
   "cell_type": "code",
   "execution_count": null,
   "id": "7b4377fa",
   "metadata": {},
   "outputs": [],
   "source": []
  },
  {
   "cell_type": "markdown",
   "id": "7bc59f9f",
   "metadata": {},
   "source": [
    "#Ans5.)\n",
    "\n",
    "Primary Key: A primary key is a column or a set of columns in a table that uniquely identifies each record in the table. It must contain unique values and cannot contain NULL values. By enforcing uniqueness, primary keys help maintain data integrity and facilitate efficient data retrieval.\n",
    "\n",
    "Foreign Key: A foreign key is a column or a set of columns in a table that establishes a link between data in two tables. It represents a relationship between the tables by referencing the primary key of another table. Foreign keys enforce referential integrity, ensuring that data remains consistent across related tables"
   ]
  },
  {
   "cell_type": "code",
   "execution_count": null,
   "id": "3cf110ca",
   "metadata": {},
   "outputs": [],
   "source": []
  },
  {
   "cell_type": "code",
   "execution_count": 5,
   "id": "0a7e1919",
   "metadata": {},
   "outputs": [
    {
     "ename": "ModuleNotFoundError",
     "evalue": "No module named 'mysql'",
     "output_type": "error",
     "traceback": [
      "\u001b[1;31m---------------------------------------------------------------------------\u001b[0m",
      "\u001b[1;31mModuleNotFoundError\u001b[0m                       Traceback (most recent call last)",
      "Cell \u001b[1;32mIn[5], line 3\u001b[0m\n\u001b[0;32m      1\u001b[0m \u001b[38;5;66;03m#Ans6.)\u001b[39;00m\n\u001b[1;32m----> 3\u001b[0m \u001b[38;5;28;01mimport\u001b[39;00m \u001b[38;5;21;01mmysql\u001b[39;00m\u001b[38;5;21;01m.\u001b[39;00m\u001b[38;5;21;01mconnector\u001b[39;00m\n\u001b[0;32m      5\u001b[0m \u001b[38;5;66;03m# Establish connection to MySQL database\u001b[39;00m\n\u001b[0;32m      6\u001b[0m conn \u001b[38;5;241m=\u001b[39m mysql\u001b[38;5;241m.\u001b[39mconnector\u001b[38;5;241m.\u001b[39mconnect(\n\u001b[0;32m      7\u001b[0m     host\u001b[38;5;241m=\u001b[39m\u001b[38;5;124m\"\u001b[39m\u001b[38;5;124mlocalhost\u001b[39m\u001b[38;5;124m\"\u001b[39m,\n\u001b[0;32m      8\u001b[0m     user\u001b[38;5;241m=\u001b[39m\u001b[38;5;124m\"\u001b[39m\u001b[38;5;124musername\u001b[39m\u001b[38;5;124m\"\u001b[39m,\n\u001b[0;32m      9\u001b[0m     password\u001b[38;5;241m=\u001b[39m\u001b[38;5;124m\"\u001b[39m\u001b[38;5;124mpassword\u001b[39m\u001b[38;5;124m\"\u001b[39m,\n\u001b[0;32m     10\u001b[0m     database\u001b[38;5;241m=\u001b[39m\u001b[38;5;124m\"\u001b[39m\u001b[38;5;124mmydatabase\u001b[39m\u001b[38;5;124m\"\u001b[39m\n\u001b[0;32m     11\u001b[0m )\n",
      "\u001b[1;31mModuleNotFoundError\u001b[0m: No module named 'mysql'"
     ]
    }
   ],
   "source": [
    "#Ans6.)\n",
    "\n",
    "import mysql.connector\n",
    "\n",
    "# Establish connection to MySQL database\n",
    "conn = mysql.connector.connect(\n",
    "    host=\"localhost\",\n",
    "    user=\"username\",\n",
    "    password=\"password\",\n",
    "    database=\"mydatabase\"\n",
    ")\n",
    "\n",
    "# Create cursor object to interact with the database\n",
    "cursor = conn.cursor()\n",
    "\n",
    "# Execute SQL query\n",
    "cursor.execute(\"SELECT * FROM students\")\n",
    "\n",
    "# Fetch results\n",
    "results = cursor.fetchall()\n",
    "for row in results:\n",
    "    print(row)\n",
    "\n",
    "# Close cursor and connection\n",
    "cursor.close()\n",
    "conn.close()\n"
   ]
  },
  {
   "cell_type": "markdown",
   "id": "8b209bac",
   "metadata": {},
   "source": [
    "cursor(): The cursor() method creates a cursor object that allows Python code to execute SQL queries and fetch results from the database.\n",
    "\n",
    "execute(): The execute() method of the cursor object is used to execute SQL queries. It takes an SQL query as a parameter and executes it against the connected database"
   ]
  },
  {
   "cell_type": "code",
   "execution_count": null,
   "id": "4f41929d",
   "metadata": {},
   "outputs": [],
   "source": []
  },
  {
   "cell_type": "markdown",
   "id": "d5f5ae32",
   "metadata": {},
   "source": [
    "#Ans7.)\n",
    "\n",
    "The order of execution of SQL clauses in an SQL query is as:\n",
    "\n",
    "FROM: Specifies the table(s) from which to retrieve data.\n",
    "\n",
    "WHERE: Filters rows based on specified conditions.\n",
    "\n",
    "GROUP BY: Groups rows that have the same values into summary rows.\n",
    "\n",
    "HAVING: Filters grouped rows based on specified conditions.\n",
    "\n",
    "SELECT: Specifies the columns to retrieve data from.\n",
    "\n",
    "DISTINCT: Removes duplicate rows from the result set.\n",
    "\n",
    "ORDER BY: Sorts the result set by specified column(s).\n",
    "\n",
    "LIMIT/OFFSET: Limits the number of rows returned or skips a specified number of rows."
   ]
  },
  {
   "cell_type": "code",
   "execution_count": null,
   "id": "b11624ca",
   "metadata": {},
   "outputs": [],
   "source": []
  }
 ],
 "metadata": {
  "kernelspec": {
   "display_name": "Python 3 (ipykernel)",
   "language": "python",
   "name": "python3"
  },
  "language_info": {
   "codemirror_mode": {
    "name": "ipython",
    "version": 3
   },
   "file_extension": ".py",
   "mimetype": "text/x-python",
   "name": "python",
   "nbconvert_exporter": "python",
   "pygments_lexer": "ipython3",
   "version": "3.11.4"
  }
 },
 "nbformat": 4,
 "nbformat_minor": 5
}
